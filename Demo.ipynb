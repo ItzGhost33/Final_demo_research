{
 "cells": [
  {
   "cell_type": "code",
   "execution_count": 1,
   "metadata": {},
   "outputs": [],
   "source": [
    "import pandas as pd\n",
    "import numpy as np\n",
    "import matplotlib.pyplot as plt\n",
    "from sklearn.metrics import accuracy_score\n",
    "from sklearn.model_selection import train_test_split\n",
    "from sklearn.ensemble import RandomForestClassifier\n",
    "from sklearn.linear_model import LogisticRegression\n",
    "import seaborn as sns\n",
    "import pickle\n",
    "\n",
    "\n",
    "\n",
    "\n",
    "from sklearn.model_selection import GridSearchCV\n",
    "from sklearn.model_selection import RandomizedSearchCV\n",
    "from sklearn.model_selection import RepeatedStratifiedKFold\n",
    "from sklearn.model_selection import StratifiedKFold\n",
    "from sklearn.model_selection import cross_val_score\n",
    "\n",
    "from sklearn.impute import KNNImputer\n",
    "\n"
   ]
  },
  {
   "cell_type": "code",
   "execution_count": 2,
   "metadata": {},
   "outputs": [],
   "source": [
    "df = pd.read_csv(\"Sri Lankan CKD Dataset.csv\")"
   ]
  },
  {
   "cell_type": "code",
   "execution_count": 3,
   "metadata": {},
   "outputs": [],
   "source": [
    "a= {\"M\":1,\"F\":0}\n",
    "\n",
    "df[\"gender\"]=df[\"gender\"].map(a)"
   ]
  },
  {
   "cell_type": "code",
   "execution_count": 4,
   "metadata": {},
   "outputs": [],
   "source": [
    "df = df.drop(\"cru\",axis =1)\n",
    "df = df.drop(\"ua\",axis =1)\n",
    "df = df.drop(\"iron\",axis =1)"
   ]
  },
  {
   "cell_type": "code",
   "execution_count": 5,
   "metadata": {},
   "outputs": [
    {
     "name": "stdout",
     "output_type": "stream",
     "text": [
      "Number of Missing Values per Row:\n",
      "0      6\n",
      "1      2\n",
      "2      1\n",
      "3      2\n",
      "4      2\n",
      "      ..\n",
      "401    4\n",
      "402    0\n",
      "403    1\n",
      "404    4\n",
      "405    1\n",
      "Length: 406, dtype: int64\n"
     ]
    }
   ],
   "source": [
    "missing_values_per_row = df.isnull().sum(axis=1)\n",
    "\n",
    "print(\"Number of Missing Values per Row:\")\n",
    "print(missing_values_per_row)"
   ]
  },
  {
   "cell_type": "code",
   "execution_count": 6,
   "metadata": {},
   "outputs": [
    {
     "name": "stdout",
     "output_type": "stream",
     "text": [
      "\n",
      "Filtered DataFrame:\n",
      "      id   age  weight  gender       cr    al    gl     na    ca    k     cl  \\\n",
      "0      1  72.0   52.00       1   249.43  34.9   NaN  142.0  2.43  5.0  113.0   \n",
      "1      2  76.0   52.00       1   216.05  41.3   NaN  145.0  2.40  4.7  114.0   \n",
      "2      3  60.0   80.40       1   155.40  33.7   NaN  135.0  2.00  4.2  103.0   \n",
      "3      4  65.0   53.40       0   127.50  41.8   NaN  138.0  2.80  4.4  100.0   \n",
      "4      5  59.0   60.40       1   172.71  39.7   NaN  128.0  2.20  3.6   91.0   \n",
      "..   ...   ...     ...     ...      ...   ...   ...    ...   ...  ...    ...   \n",
      "401  402  48.0   48.00       1  1167.62   NaN   NaN  134.0   NaN  4.1   94.0   \n",
      "402  403  46.0   55.00       1   211.20  37.2  37.9  144.0  2.40  4.3  105.0   \n",
      "403  404  55.0   54.85       0   164.43  22.2  48.9  129.0   NaN  3.9   97.0   \n",
      "404  405  84.0   43.90       1   501.71   NaN   NaN  135.0   NaN  5.7   99.0   \n",
      "405  406  38.0   60.50       1   880.64  38.5  32.1  127.0   NaN  4.1   99.0   \n",
      "\n",
      "       pr   wbc   rbc    hg    plt  class  \n",
      "0     NaN   NaN   NaN   NaN    NaN      1  \n",
      "1     NaN  9.85  3.44  11.3  356.0      1  \n",
      "2    11.6  9.24  4.60   8.4  329.0      1  \n",
      "3     NaN  9.87  4.32  11.7  364.0      1  \n",
      "4     NaN  8.93  4.82  13.8  214.0      1  \n",
      "..    ...   ...   ...   ...    ...    ...  \n",
      "401   NaN  5.43  4.18  13.5  146.0      1  \n",
      "402  75.1  6.56  4.71  14.1  217.0      1  \n",
      "403  71.1  5.92  2.67   8.7   79.0      1  \n",
      "404   NaN  5.07  4.53  12.8  179.0      1  \n",
      "405  70.6  7.96  3.28   7.9  137.0      1  \n",
      "\n",
      "[395 rows x 17 columns]\n"
     ]
    }
   ],
   "source": [
    "threshold = 10\n",
    "filtered_data = df[missing_values_per_row <= threshold]\n",
    "\n",
    "print(\"\\nFiltered DataFrame:\")\n",
    "print(filtered_data)\n",
    "filtered_data.shape\n",
    "\n",
    "df = filtered_data.copy()\n"
   ]
  },
  {
   "cell_type": "code",
   "execution_count": 7,
   "metadata": {},
   "outputs": [],
   "source": [
    "# df = df[['cr','age','hg','al','gender','na','gl','ca','class']].copy()\n",
    "# df = df[['age','hg','al','gender','na','gl','ca','class']].copy()\n",
    "\n",
    "df = df[['cr','age','hg','gender','na','class']].copy()\n",
    "\n",
    "\n",
    "\n"
   ]
  },
  {
   "cell_type": "code",
   "execution_count": 8,
   "metadata": {},
   "outputs": [
    {
     "data": {
      "text/html": [
       "<div>\n",
       "<style scoped>\n",
       "    .dataframe tbody tr th:only-of-type {\n",
       "        vertical-align: middle;\n",
       "    }\n",
       "\n",
       "    .dataframe tbody tr th {\n",
       "        vertical-align: top;\n",
       "    }\n",
       "\n",
       "    .dataframe thead th {\n",
       "        text-align: right;\n",
       "    }\n",
       "</style>\n",
       "<table border=\"1\" class=\"dataframe\">\n",
       "  <thead>\n",
       "    <tr style=\"text-align: right;\">\n",
       "      <th></th>\n",
       "      <th>cr</th>\n",
       "      <th>age</th>\n",
       "      <th>hg</th>\n",
       "      <th>gender</th>\n",
       "      <th>na</th>\n",
       "      <th>class</th>\n",
       "    </tr>\n",
       "  </thead>\n",
       "  <tbody>\n",
       "    <tr>\n",
       "      <th>0</th>\n",
       "      <td>249.43</td>\n",
       "      <td>72.0</td>\n",
       "      <td>12.4</td>\n",
       "      <td>1.0</td>\n",
       "      <td>142.0</td>\n",
       "      <td>1.0</td>\n",
       "    </tr>\n",
       "    <tr>\n",
       "      <th>1</th>\n",
       "      <td>216.05</td>\n",
       "      <td>76.0</td>\n",
       "      <td>11.3</td>\n",
       "      <td>1.0</td>\n",
       "      <td>145.0</td>\n",
       "      <td>1.0</td>\n",
       "    </tr>\n",
       "    <tr>\n",
       "      <th>2</th>\n",
       "      <td>155.40</td>\n",
       "      <td>60.0</td>\n",
       "      <td>8.4</td>\n",
       "      <td>1.0</td>\n",
       "      <td>135.0</td>\n",
       "      <td>1.0</td>\n",
       "    </tr>\n",
       "    <tr>\n",
       "      <th>3</th>\n",
       "      <td>127.50</td>\n",
       "      <td>65.0</td>\n",
       "      <td>11.7</td>\n",
       "      <td>0.0</td>\n",
       "      <td>138.0</td>\n",
       "      <td>1.0</td>\n",
       "    </tr>\n",
       "    <tr>\n",
       "      <th>4</th>\n",
       "      <td>172.71</td>\n",
       "      <td>59.0</td>\n",
       "      <td>13.8</td>\n",
       "      <td>1.0</td>\n",
       "      <td>128.0</td>\n",
       "      <td>1.0</td>\n",
       "    </tr>\n",
       "  </tbody>\n",
       "</table>\n",
       "</div>"
      ],
      "text/plain": [
       "       cr   age    hg  gender     na  class\n",
       "0  249.43  72.0  12.4     1.0  142.0    1.0\n",
       "1  216.05  76.0  11.3     1.0  145.0    1.0\n",
       "2  155.40  60.0   8.4     1.0  135.0    1.0\n",
       "3  127.50  65.0  11.7     0.0  138.0    1.0\n",
       "4  172.71  59.0  13.8     1.0  128.0    1.0"
      ]
     },
     "execution_count": 8,
     "metadata": {},
     "output_type": "execute_result"
    }
   ],
   "source": [
    "from sklearn.impute import KNNImputer\n",
    "imputer = KNNImputer(n_neighbors=14)\n",
    "\n",
    "# Perform the imputation\n",
    "df_imputed = pd.DataFrame(imputer.fit_transform(df), columns=df.columns)\n",
    "df_imputed.head()"
   ]
  },
  {
   "cell_type": "code",
   "execution_count": null,
   "metadata": {},
   "outputs": [],
   "source": []
  },
  {
   "cell_type": "code",
   "execution_count": null,
   "metadata": {},
   "outputs": [],
   "source": []
  },
  {
   "cell_type": "code",
   "execution_count": null,
   "metadata": {},
   "outputs": [],
   "source": []
  },
  {
   "cell_type": "code",
   "execution_count": 9,
   "metadata": {},
   "outputs": [],
   "source": [
    "# df_imputed = df_imputed.drop(columns='id')"
   ]
  },
  {
   "cell_type": "code",
   "execution_count": 10,
   "metadata": {},
   "outputs": [],
   "source": [
    "# df_imputed = df_imputed.round(1)\n",
    "X = df_imputed.drop(columns='class')\n",
    "y = df_imputed['class']"
   ]
  },
  {
   "cell_type": "code",
   "execution_count": 11,
   "metadata": {},
   "outputs": [],
   "source": [
    "# X_train, X_test, y_train, y_test = train_test_split(X, y, test_size=0.2, random_state=42)\n",
    "# from sklearn.inspection import permutation_importance\n"
   ]
  },
  {
   "cell_type": "code",
   "execution_count": 12,
   "metadata": {},
   "outputs": [],
   "source": [
    "# from sklearn.feature_selection import RFE\n",
    "\n",
    "# model = LogisticRegression(max_iter=1000)\n",
    "\n",
    "# # Use RFE to select top 2 features\n",
    "# rfe = RFE(model, n_features_to_select=2)\n",
    "# fit = rfe.fit(X, y)\n",
    "\n",
    "# # Print selected features\n",
    "# selected_features = [feature for feature, selected in zip(X.columns, fit.support_) if selected]\n",
    "# print(f\"Selected Features: {selected_features}\")\n",
    "\n",
    "# # Rank all features\n",
    "# ranking = pd.DataFrame({'Feature': X.columns, 'Ranking': fit.ranking_})\n",
    "# print(ranking.sort_values(by='Ranking'))"
   ]
  },
  {
   "cell_type": "code",
   "execution_count": 13,
   "metadata": {},
   "outputs": [],
   "source": [
    "# # d = df_imputed.round(1)\n",
    "# d = df_imputed[['ca','gender','hg','al','na','class','cr']]\n",
    "\n",
    "# X = d.drop(columns='class')\n",
    "# y = d['class']"
   ]
  },
  {
   "cell_type": "code",
   "execution_count": null,
   "metadata": {},
   "outputs": [],
   "source": []
  },
  {
   "cell_type": "code",
   "execution_count": 14,
   "metadata": {},
   "outputs": [
    {
     "name": "stdout",
     "output_type": "stream",
     "text": [
      "Model Accuracy: 0.96\n"
     ]
    }
   ],
   "source": [
    "X_train, X_test, y_train, y_test = train_test_split(X, y, test_size=0.2, random_state=42)\n",
    "\n",
    "# Step 3: Train the XGBoost Classifier\n",
    "from xgboost import XGBClassifier\n",
    "\n",
    "model = XGBClassifier()\n",
    "model.fit(X_train, y_train)\n",
    "\n",
    "# Step 4: Evaluate the model\n",
    "y_pred = model.predict(X_test)\n",
    "accuracy = accuracy_score(y_test, y_pred)\n",
    "print(f\"Model Accuracy: {accuracy:.2f}\")\n",
    "\n"
   ]
  },
  {
   "cell_type": "code",
   "execution_count": 75,
   "metadata": {},
   "outputs": [],
   "source": [
    "# X_train"
   ]
  },
  {
   "cell_type": "markdown",
   "metadata": {},
   "source": []
  },
  {
   "cell_type": "code",
   "execution_count": 76,
   "metadata": {},
   "outputs": [],
   "source": [
    "# X_test.round(2)"
   ]
  },
  {
   "cell_type": "code",
   "execution_count": 77,
   "metadata": {},
   "outputs": [],
   "source": [
    "# y_test"
   ]
  },
  {
   "cell_type": "code",
   "execution_count": 78,
   "metadata": {},
   "outputs": [],
   "source": [
    "# x_ = np.array([716.230,60.0, 84.0,38.800000,\t1.0,121.0,31.042857,2.100000,77.000000,4.5])\n",
    "# x_ = x_.reshape(1, -1)\n",
    "\n",
    "# # single_instance = np.array([4.5, 2.3, 1.3, 0.2, 3.1])\n",
    "\n",
    "# # # Reshape it into a 2D array\n",
    "# # single_instance_reshaped = single_instance.reshape(1, -1)"
   ]
  },
  {
   "cell_type": "code",
   "execution_count": 79,
   "metadata": {},
   "outputs": [],
   "source": [
    "# import pickle\n",
    "\n",
    "# # Load the saved XGBoost model\n",
    "# with open(\"model_folder/xgboost_ckd_model.pkl\", \"rb\") as file:\n",
    "#     m = pickle.load(file)"
   ]
  },
  {
   "cell_type": "code",
   "execution_count": 80,
   "metadata": {},
   "outputs": [],
   "source": [
    "# y_ = m.predict(x_)\n",
    "# y_"
   ]
  },
  {
   "cell_type": "code",
   "execution_count": 81,
   "metadata": {},
   "outputs": [],
   "source": [
    "# y_"
   ]
  },
  {
   "cell_type": "code",
   "execution_count": 82,
   "metadata": {},
   "outputs": [
    {
     "data": {
      "text/plain": [
       "78     0.0\n",
       "371    1.0\n",
       "248    0.0\n",
       "55     1.0\n",
       "390    1.0\n",
       "      ... \n",
       "364    1.0\n",
       "82     0.0\n",
       "114    1.0\n",
       "3      1.0\n",
       "18     1.0\n",
       "Name: class, Length: 79, dtype: float64"
      ]
     },
     "execution_count": 82,
     "metadata": {},
     "output_type": "execute_result"
    }
   ],
   "source": [
    "y_test"
   ]
  },
  {
   "cell_type": "code",
   "execution_count": 83,
   "metadata": {},
   "outputs": [
    {
     "name": "stdout",
     "output_type": "stream",
     "text": [
      "Model saved as model_folder\\xgboost_ckd_model_no_alglca.pkl\n"
     ]
    }
   ],
   "source": [
    "import os\n",
    "folder_name = \"model_folder\"\n",
    "if not os.path.exists(folder_name):\n",
    "    os.makedirs(folder_name)\n",
    "    print(f\"Folder '{folder_name}' created.\")\n",
    "\n",
    "# Step 6: Save the model in the new folder\n",
    "model_path = os.path.join(folder_name, 'xgboost_ckd_model_no_alglca.pkl')\n",
    "# model_path = os.path.join(folder_name, 'xgboost_ckd_model.pkl')\n",
    "# model_path = os.path.join(folder_name, 'xgboost_ckd_model_no_scr.pkl')\n",
    "\n",
    "\n",
    "with open(model_path, 'wb') as file:\n",
    "    pickle.dump(model, file)\n",
    "\n",
    "print(f\"Model saved as {model_path}\")"
   ]
  },
  {
   "cell_type": "code",
   "execution_count": null,
   "metadata": {},
   "outputs": [],
   "source": []
  }
 ],
 "metadata": {
  "kernelspec": {
   "display_name": "Python 3",
   "language": "python",
   "name": "python3"
  },
  "language_info": {
   "codemirror_mode": {
    "name": "ipython",
    "version": 3
   },
   "file_extension": ".py",
   "mimetype": "text/x-python",
   "name": "python",
   "nbconvert_exporter": "python",
   "pygments_lexer": "ipython3",
   "version": "3.12.3"
  }
 },
 "nbformat": 4,
 "nbformat_minor": 2
}
