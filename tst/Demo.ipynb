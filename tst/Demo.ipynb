{
 "cells": [
  {
   "cell_type": "code",
   "execution_count": 1,
   "metadata": {},
   "outputs": [],
   "source": [
    "import pandas as pd\n",
    "import numpy as np\n",
    "import matplotlib.pyplot as plt\n",
    "from sklearn.metrics import accuracy_score\n",
    "from sklearn.model_selection import train_test_split\n",
    "from sklearn.ensemble import RandomForestClassifier\n",
    "from sklearn.linear_model import LogisticRegression\n",
    "import seaborn as sns\n",
    "import pickle\n",
    "\n",
    "\n",
    "\n",
    "\n",
    "from sklearn.model_selection import GridSearchCV\n",
    "from sklearn.model_selection import RandomizedSearchCV\n",
    "from sklearn.model_selection import RepeatedStratifiedKFold\n",
    "from sklearn.model_selection import StratifiedKFold\n",
    "from sklearn.model_selection import cross_val_score\n",
    "\n",
    "from sklearn.impute import KNNImputer\n",
    "\n"
   ]
  },
  {
   "cell_type": "code",
   "execution_count": 2,
   "metadata": {},
   "outputs": [],
   "source": [
    "df = pd.read_csv(\"Sri Lankan CKD Dataset.csv\")"
   ]
  },
  {
   "cell_type": "code",
   "execution_count": 3,
   "metadata": {},
   "outputs": [],
   "source": [
    "a= {\"M\":1,\"F\":0}\n",
    "\n",
    "df[\"gender\"]=df[\"gender\"].map(a)"
   ]
  },
  {
   "cell_type": "code",
   "execution_count": 4,
   "metadata": {},
   "outputs": [],
   "source": [
    "df = df.drop(\"cru\",axis =1)\n",
    "df = df.drop(\"ua\",axis =1)\n",
    "df = df.drop(\"iron\",axis =1)"
   ]
  },
  {
   "cell_type": "code",
   "execution_count": 5,
   "metadata": {},
   "outputs": [
    {
     "name": "stdout",
     "output_type": "stream",
     "text": [
      "Number of Missing Values per Row:\n",
      "0      6\n",
      "1      2\n",
      "2      1\n",
      "3      2\n",
      "4      2\n",
      "      ..\n",
      "401    4\n",
      "402    0\n",
      "403    1\n",
      "404    4\n",
      "405    1\n",
      "Length: 406, dtype: int64\n"
     ]
    }
   ],
   "source": [
    "missing_values_per_row = df.isnull().sum(axis=1)\n",
    "\n",
    "print(\"Number of Missing Values per Row:\")\n",
    "print(missing_values_per_row)"
   ]
  },
  {
   "cell_type": "code",
   "execution_count": 6,
   "metadata": {},
   "outputs": [
    {
     "name": "stdout",
     "output_type": "stream",
     "text": [
      "\n",
      "Filtered DataFrame:\n",
      "      id   age  weight  gender       cr    al    gl     na    ca    k     cl  \\\n",
      "0      1  72.0   52.00       1   249.43  34.9   NaN  142.0  2.43  5.0  113.0   \n",
      "1      2  76.0   52.00       1   216.05  41.3   NaN  145.0  2.40  4.7  114.0   \n",
      "2      3  60.0   80.40       1   155.40  33.7   NaN  135.0  2.00  4.2  103.0   \n",
      "3      4  65.0   53.40       0   127.50  41.8   NaN  138.0  2.80  4.4  100.0   \n",
      "4      5  59.0   60.40       1   172.71  39.7   NaN  128.0  2.20  3.6   91.0   \n",
      "..   ...   ...     ...     ...      ...   ...   ...    ...   ...  ...    ...   \n",
      "401  402  48.0   48.00       1  1167.62   NaN   NaN  134.0   NaN  4.1   94.0   \n",
      "402  403  46.0   55.00       1   211.20  37.2  37.9  144.0  2.40  4.3  105.0   \n",
      "403  404  55.0   54.85       0   164.43  22.2  48.9  129.0   NaN  3.9   97.0   \n",
      "404  405  84.0   43.90       1   501.71   NaN   NaN  135.0   NaN  5.7   99.0   \n",
      "405  406  38.0   60.50       1   880.64  38.5  32.1  127.0   NaN  4.1   99.0   \n",
      "\n",
      "       pr   wbc   rbc    hg    plt  class  \n",
      "0     NaN   NaN   NaN   NaN    NaN      1  \n",
      "1     NaN  9.85  3.44  11.3  356.0      1  \n",
      "2    11.6  9.24  4.60   8.4  329.0      1  \n",
      "3     NaN  9.87  4.32  11.7  364.0      1  \n",
      "4     NaN  8.93  4.82  13.8  214.0      1  \n",
      "..    ...   ...   ...   ...    ...    ...  \n",
      "401   NaN  5.43  4.18  13.5  146.0      1  \n",
      "402  75.1  6.56  4.71  14.1  217.0      1  \n",
      "403  71.1  5.92  2.67   8.7   79.0      1  \n",
      "404   NaN  5.07  4.53  12.8  179.0      1  \n",
      "405  70.6  7.96  3.28   7.9  137.0      1  \n",
      "\n",
      "[395 rows x 17 columns]\n"
     ]
    }
   ],
   "source": [
    "threshold = 10\n",
    "filtered_data = df[missing_values_per_row <= threshold]\n",
    "\n",
    "print(\"\\nFiltered DataFrame:\")\n",
    "print(filtered_data)\n",
    "filtered_data.shape\n",
    "\n",
    "df = filtered_data.copy()\n"
   ]
  },
  {
   "cell_type": "code",
   "execution_count": 7,
   "metadata": {},
   "outputs": [],
   "source": [
    "df = df[['cr','age','hg','al','gender','na','gl','ca','class']].copy()\n",
    "# df = df[['age','hg','al','gender','na','gl','ca','class']].copy()\n",
    "\n",
    "# df = df[['cr','age','hg','gender','na','class']].copy()\n",
    "\n",
    "\n",
    "\n"
   ]
  },
  {
   "cell_type": "code",
   "execution_count": 8,
   "metadata": {},
   "outputs": [
    {
     "data": {
      "text/html": [
       "<div>\n",
       "<style scoped>\n",
       "    .dataframe tbody tr th:only-of-type {\n",
       "        vertical-align: middle;\n",
       "    }\n",
       "\n",
       "    .dataframe tbody tr th {\n",
       "        vertical-align: top;\n",
       "    }\n",
       "\n",
       "    .dataframe thead th {\n",
       "        text-align: right;\n",
       "    }\n",
       "</style>\n",
       "<table border=\"1\" class=\"dataframe\">\n",
       "  <thead>\n",
       "    <tr style=\"text-align: right;\">\n",
       "      <th></th>\n",
       "      <th>cr</th>\n",
       "      <th>age</th>\n",
       "      <th>hg</th>\n",
       "      <th>al</th>\n",
       "      <th>gender</th>\n",
       "      <th>na</th>\n",
       "      <th>gl</th>\n",
       "      <th>ca</th>\n",
       "      <th>class</th>\n",
       "    </tr>\n",
       "  </thead>\n",
       "  <tbody>\n",
       "    <tr>\n",
       "      <th>0</th>\n",
       "      <td>249.43</td>\n",
       "      <td>72.0</td>\n",
       "      <td>12.457143</td>\n",
       "      <td>34.9</td>\n",
       "      <td>1.0</td>\n",
       "      <td>142.0</td>\n",
       "      <td>35.721429</td>\n",
       "      <td>2.43</td>\n",
       "      <td>1.0</td>\n",
       "    </tr>\n",
       "    <tr>\n",
       "      <th>1</th>\n",
       "      <td>216.05</td>\n",
       "      <td>76.0</td>\n",
       "      <td>11.300000</td>\n",
       "      <td>41.3</td>\n",
       "      <td>1.0</td>\n",
       "      <td>145.0</td>\n",
       "      <td>36.107143</td>\n",
       "      <td>2.40</td>\n",
       "      <td>1.0</td>\n",
       "    </tr>\n",
       "    <tr>\n",
       "      <th>2</th>\n",
       "      <td>155.40</td>\n",
       "      <td>60.0</td>\n",
       "      <td>8.400000</td>\n",
       "      <td>33.7</td>\n",
       "      <td>1.0</td>\n",
       "      <td>135.0</td>\n",
       "      <td>36.158571</td>\n",
       "      <td>2.00</td>\n",
       "      <td>1.0</td>\n",
       "    </tr>\n",
       "    <tr>\n",
       "      <th>3</th>\n",
       "      <td>127.50</td>\n",
       "      <td>65.0</td>\n",
       "      <td>11.700000</td>\n",
       "      <td>41.8</td>\n",
       "      <td>0.0</td>\n",
       "      <td>138.0</td>\n",
       "      <td>32.994286</td>\n",
       "      <td>2.80</td>\n",
       "      <td>1.0</td>\n",
       "    </tr>\n",
       "    <tr>\n",
       "      <th>4</th>\n",
       "      <td>172.71</td>\n",
       "      <td>59.0</td>\n",
       "      <td>13.800000</td>\n",
       "      <td>39.7</td>\n",
       "      <td>1.0</td>\n",
       "      <td>128.0</td>\n",
       "      <td>37.908571</td>\n",
       "      <td>2.20</td>\n",
       "      <td>1.0</td>\n",
       "    </tr>\n",
       "  </tbody>\n",
       "</table>\n",
       "</div>"
      ],
      "text/plain": [
       "       cr   age         hg    al  gender     na         gl    ca  class\n",
       "0  249.43  72.0  12.457143  34.9     1.0  142.0  35.721429  2.43    1.0\n",
       "1  216.05  76.0  11.300000  41.3     1.0  145.0  36.107143  2.40    1.0\n",
       "2  155.40  60.0   8.400000  33.7     1.0  135.0  36.158571  2.00    1.0\n",
       "3  127.50  65.0  11.700000  41.8     0.0  138.0  32.994286  2.80    1.0\n",
       "4  172.71  59.0  13.800000  39.7     1.0  128.0  37.908571  2.20    1.0"
      ]
     },
     "execution_count": 8,
     "metadata": {},
     "output_type": "execute_result"
    }
   ],
   "source": [
    "from sklearn.impute import KNNImputer\n",
    "imputer = KNNImputer(n_neighbors=14)\n",
    "\n",
    "# Perform the imputation\n",
    "df_imputed = pd.DataFrame(imputer.fit_transform(df), columns=df.columns)\n",
    "df_imputed.head()"
   ]
  },
  {
   "cell_type": "code",
   "execution_count": null,
   "metadata": {},
   "outputs": [],
   "source": []
  },
  {
   "cell_type": "code",
   "execution_count": null,
   "metadata": {},
   "outputs": [],
   "source": []
  },
  {
   "cell_type": "code",
   "execution_count": null,
   "metadata": {},
   "outputs": [],
   "source": []
  },
  {
   "cell_type": "code",
   "execution_count": 9,
   "metadata": {},
   "outputs": [],
   "source": [
    "# df_imputed = df_imputed.drop(columns='id')"
   ]
  },
  {
   "cell_type": "code",
   "execution_count": 10,
   "metadata": {},
   "outputs": [],
   "source": [
    "# df_imputed = df_imputed.round(1)\n",
    "X = df_imputed.drop(columns='class')\n",
    "y = df_imputed['class']"
   ]
  },
  {
   "cell_type": "code",
   "execution_count": 11,
   "metadata": {},
   "outputs": [],
   "source": [
    "# X_train, X_test, y_train, y_test = train_test_split(X, y, test_size=0.2, random_state=42)\n",
    "# from sklearn.inspection import permutation_importance\n"
   ]
  },
  {
   "cell_type": "code",
   "execution_count": 12,
   "metadata": {},
   "outputs": [],
   "source": [
    "# from sklearn.feature_selection import RFE\n",
    "\n",
    "# model = LogisticRegression(max_iter=1000)\n",
    "\n",
    "# # Use RFE to select top 2 features\n",
    "# rfe = RFE(model, n_features_to_select=2)\n",
    "# fit = rfe.fit(X, y)\n",
    "\n",
    "# # Print selected features\n",
    "# selected_features = [feature for feature, selected in zip(X.columns, fit.support_) if selected]\n",
    "# print(f\"Selected Features: {selected_features}\")\n",
    "\n",
    "# # Rank all features\n",
    "# ranking = pd.DataFrame({'Feature': X.columns, 'Ranking': fit.ranking_})\n",
    "# print(ranking.sort_values(by='Ranking'))"
   ]
  },
  {
   "cell_type": "code",
   "execution_count": 13,
   "metadata": {},
   "outputs": [],
   "source": [
    "# # d = df_imputed.round(1)\n",
    "# d = df_imputed[['ca','gender','hg','al','na','class','cr']]\n",
    "\n",
    "# X = d.drop(columns='class')\n",
    "# y = d['class']"
   ]
  },
  {
   "cell_type": "code",
   "execution_count": null,
   "metadata": {},
   "outputs": [],
   "source": []
  },
  {
   "cell_type": "code",
   "execution_count": 14,
   "metadata": {},
   "outputs": [
    {
     "name": "stdout",
     "output_type": "stream",
     "text": [
      "Model Accuracy: 0.96\n"
     ]
    }
   ],
   "source": [
    "X_train, X_test, y_train, y_test = train_test_split(X, y, test_size=0.2, random_state=42)\n",
    "\n",
    "# Step 3: Train the XGBoost Classifier\n",
    "from xgboost import XGBClassifier\n",
    "\n",
    "model = XGBClassifier()\n",
    "model.fit(X_train, y_train)\n",
    "\n",
    "# Step 4: Evaluate the model\n",
    "y_pred = model.predict(X_test)\n",
    "accuracy = accuracy_score(y_test, y_pred)\n",
    "print(f\"Model Accuracy: {accuracy:.2f}\")\n",
    "\n"
   ]
  },
  {
   "cell_type": "code",
   "execution_count": 15,
   "metadata": {},
   "outputs": [],
   "source": [
    "# X_train"
   ]
  },
  {
   "cell_type": "markdown",
   "metadata": {},
   "source": []
  },
  {
   "cell_type": "code",
   "execution_count": 16,
   "metadata": {},
   "outputs": [
    {
     "data": {
      "text/html": [
       "<div>\n",
       "<style scoped>\n",
       "    .dataframe tbody tr th:only-of-type {\n",
       "        vertical-align: middle;\n",
       "    }\n",
       "\n",
       "    .dataframe tbody tr th {\n",
       "        vertical-align: top;\n",
       "    }\n",
       "\n",
       "    .dataframe thead th {\n",
       "        text-align: right;\n",
       "    }\n",
       "</style>\n",
       "<table border=\"1\" class=\"dataframe\">\n",
       "  <thead>\n",
       "    <tr style=\"text-align: right;\">\n",
       "      <th></th>\n",
       "      <th>cr</th>\n",
       "      <th>age</th>\n",
       "      <th>hg</th>\n",
       "      <th>al</th>\n",
       "      <th>gender</th>\n",
       "      <th>na</th>\n",
       "      <th>gl</th>\n",
       "      <th>ca</th>\n",
       "    </tr>\n",
       "  </thead>\n",
       "  <tbody>\n",
       "    <tr>\n",
       "      <th>78</th>\n",
       "      <td>85.840</td>\n",
       "      <td>45.0</td>\n",
       "      <td>11.7</td>\n",
       "      <td>37.250000</td>\n",
       "      <td>0.0</td>\n",
       "      <td>133.000000</td>\n",
       "      <td>36.614286</td>\n",
       "      <td>2.453571</td>\n",
       "    </tr>\n",
       "    <tr>\n",
       "      <th>371</th>\n",
       "      <td>918.960</td>\n",
       "      <td>63.0</td>\n",
       "      <td>10.9</td>\n",
       "      <td>35.700000</td>\n",
       "      <td>0.0</td>\n",
       "      <td>141.000000</td>\n",
       "      <td>31.642857</td>\n",
       "      <td>2.200000</td>\n",
       "    </tr>\n",
       "    <tr>\n",
       "      <th>248</th>\n",
       "      <td>61.894</td>\n",
       "      <td>45.0</td>\n",
       "      <td>15.0</td>\n",
       "      <td>36.120000</td>\n",
       "      <td>0.0</td>\n",
       "      <td>141.000000</td>\n",
       "      <td>43.600000</td>\n",
       "      <td>2.453571</td>\n",
       "    </tr>\n",
       "    <tr>\n",
       "      <th>55</th>\n",
       "      <td>130.870</td>\n",
       "      <td>27.0</td>\n",
       "      <td>13.2</td>\n",
       "      <td>38.328571</td>\n",
       "      <td>1.0</td>\n",
       "      <td>136.928571</td>\n",
       "      <td>36.300000</td>\n",
       "      <td>2.248571</td>\n",
       "    </tr>\n",
       "    <tr>\n",
       "      <th>390</th>\n",
       "      <td>1167.620</td>\n",
       "      <td>48.0</td>\n",
       "      <td>13.5</td>\n",
       "      <td>35.285714</td>\n",
       "      <td>1.0</td>\n",
       "      <td>134.000000</td>\n",
       "      <td>31.771429</td>\n",
       "      <td>1.985714</td>\n",
       "    </tr>\n",
       "    <tr>\n",
       "      <th>...</th>\n",
       "      <td>...</td>\n",
       "      <td>...</td>\n",
       "      <td>...</td>\n",
       "      <td>...</td>\n",
       "      <td>...</td>\n",
       "      <td>...</td>\n",
       "      <td>...</td>\n",
       "      <td>...</td>\n",
       "    </tr>\n",
       "    <tr>\n",
       "      <th>364</th>\n",
       "      <td>220.000</td>\n",
       "      <td>34.0</td>\n",
       "      <td>10.1</td>\n",
       "      <td>32.900000</td>\n",
       "      <td>1.0</td>\n",
       "      <td>134.000000</td>\n",
       "      <td>20.200000</td>\n",
       "      <td>2.470000</td>\n",
       "    </tr>\n",
       "    <tr>\n",
       "      <th>82</th>\n",
       "      <td>114.920</td>\n",
       "      <td>61.0</td>\n",
       "      <td>10.8</td>\n",
       "      <td>40.377143</td>\n",
       "      <td>0.0</td>\n",
       "      <td>137.428571</td>\n",
       "      <td>33.608571</td>\n",
       "      <td>2.296429</td>\n",
       "    </tr>\n",
       "    <tr>\n",
       "      <th>114</th>\n",
       "      <td>530.060</td>\n",
       "      <td>52.0</td>\n",
       "      <td>9.5</td>\n",
       "      <td>30.700000</td>\n",
       "      <td>1.0</td>\n",
       "      <td>125.000000</td>\n",
       "      <td>35.500000</td>\n",
       "      <td>2.117143</td>\n",
       "    </tr>\n",
       "    <tr>\n",
       "      <th>3</th>\n",
       "      <td>127.500</td>\n",
       "      <td>65.0</td>\n",
       "      <td>11.7</td>\n",
       "      <td>41.800000</td>\n",
       "      <td>0.0</td>\n",
       "      <td>138.000000</td>\n",
       "      <td>32.994286</td>\n",
       "      <td>2.800000</td>\n",
       "    </tr>\n",
       "    <tr>\n",
       "      <th>18</th>\n",
       "      <td>247.740</td>\n",
       "      <td>68.0</td>\n",
       "      <td>13.1</td>\n",
       "      <td>38.085714</td>\n",
       "      <td>1.0</td>\n",
       "      <td>133.000000</td>\n",
       "      <td>35.721429</td>\n",
       "      <td>2.224286</td>\n",
       "    </tr>\n",
       "  </tbody>\n",
       "</table>\n",
       "<p>79 rows × 8 columns</p>\n",
       "</div>"
      ],
      "text/plain": [
       "           cr   age    hg         al  gender          na         gl        ca\n",
       "78     85.840  45.0  11.7  37.250000     0.0  133.000000  36.614286  2.453571\n",
       "371   918.960  63.0  10.9  35.700000     0.0  141.000000  31.642857  2.200000\n",
       "248    61.894  45.0  15.0  36.120000     0.0  141.000000  43.600000  2.453571\n",
       "55    130.870  27.0  13.2  38.328571     1.0  136.928571  36.300000  2.248571\n",
       "390  1167.620  48.0  13.5  35.285714     1.0  134.000000  31.771429  1.985714\n",
       "..        ...   ...   ...        ...     ...         ...        ...       ...\n",
       "364   220.000  34.0  10.1  32.900000     1.0  134.000000  20.200000  2.470000\n",
       "82    114.920  61.0  10.8  40.377143     0.0  137.428571  33.608571  2.296429\n",
       "114   530.060  52.0   9.5  30.700000     1.0  125.000000  35.500000  2.117143\n",
       "3     127.500  65.0  11.7  41.800000     0.0  138.000000  32.994286  2.800000\n",
       "18    247.740  68.0  13.1  38.085714     1.0  133.000000  35.721429  2.224286\n",
       "\n",
       "[79 rows x 8 columns]"
      ]
     },
     "execution_count": 16,
     "metadata": {},
     "output_type": "execute_result"
    }
   ],
   "source": [
    "X_test"
   ]
  },
  {
   "cell_type": "code",
   "execution_count": 17,
   "metadata": {},
   "outputs": [
    {
     "data": {
      "text/plain": [
       "78     0.0\n",
       "371    1.0\n",
       "248    0.0\n",
       "55     1.0\n",
       "390    1.0\n",
       "      ... \n",
       "364    1.0\n",
       "82     0.0\n",
       "114    1.0\n",
       "3      1.0\n",
       "18     1.0\n",
       "Name: class, Length: 79, dtype: float64"
      ]
     },
     "execution_count": 17,
     "metadata": {},
     "output_type": "execute_result"
    }
   ],
   "source": [
    "y_test"
   ]
  },
  {
   "cell_type": "code",
   "execution_count": 18,
   "metadata": {},
   "outputs": [
    {
     "data": {
      "text/plain": [
       "array([0, 1, 0, 1, 1, 0, 1, 0, 0, 1, 1, 0, 0, 1, 0, 1, 1, 0, 0, 0, 1, 1,\n",
       "       1, 1, 1, 1, 1, 1, 1, 1, 0, 1, 0, 1, 1, 1, 1, 1, 1, 1, 1, 1, 0, 1,\n",
       "       1, 1, 1, 0, 0, 1, 0, 0, 1, 1, 0, 1, 0, 1, 0, 1, 1, 0, 1, 1, 1, 1,\n",
       "       0, 1, 0, 1, 1, 1, 0, 1, 1, 0, 1, 1, 1])"
      ]
     },
     "execution_count": 18,
     "metadata": {},
     "output_type": "execute_result"
    }
   ],
   "source": [
    "y_pred"
   ]
  },
  {
   "cell_type": "code",
   "execution_count": 19,
   "metadata": {},
   "outputs": [
    {
     "data": {
      "text/html": [
       "<div>\n",
       "<style scoped>\n",
       "    .dataframe tbody tr th:only-of-type {\n",
       "        vertical-align: middle;\n",
       "    }\n",
       "\n",
       "    .dataframe tbody tr th {\n",
       "        vertical-align: top;\n",
       "    }\n",
       "\n",
       "    .dataframe thead th {\n",
       "        text-align: right;\n",
       "    }\n",
       "</style>\n",
       "<table border=\"1\" class=\"dataframe\">\n",
       "  <thead>\n",
       "    <tr style=\"text-align: right;\">\n",
       "      <th></th>\n",
       "      <th>cr</th>\n",
       "      <th>age</th>\n",
       "      <th>hg</th>\n",
       "      <th>al</th>\n",
       "      <th>gender</th>\n",
       "      <th>na</th>\n",
       "      <th>gl</th>\n",
       "      <th>ca</th>\n",
       "      <th>Actual Label</th>\n",
       "      <th>Predicted Label</th>\n",
       "    </tr>\n",
       "  </thead>\n",
       "  <tbody>\n",
       "    <tr>\n",
       "      <th>356</th>\n",
       "      <td>853.81</td>\n",
       "      <td>56.0</td>\n",
       "      <td>10.400000</td>\n",
       "      <td>35.178571</td>\n",
       "      <td>1.0</td>\n",
       "      <td>133.000000</td>\n",
       "      <td>31.642857</td>\n",
       "      <td>2.192857</td>\n",
       "      <td>0.0</td>\n",
       "      <td>1</td>\n",
       "    </tr>\n",
       "    <tr>\n",
       "      <th>56</th>\n",
       "      <td>66.71</td>\n",
       "      <td>60.0</td>\n",
       "      <td>13.942857</td>\n",
       "      <td>39.900000</td>\n",
       "      <td>0.0</td>\n",
       "      <td>140.571429</td>\n",
       "      <td>42.700000</td>\n",
       "      <td>2.453571</td>\n",
       "      <td>1.0</td>\n",
       "      <td>0</td>\n",
       "    </tr>\n",
       "    <tr>\n",
       "      <th>386</th>\n",
       "      <td>96.60</td>\n",
       "      <td>65.0</td>\n",
       "      <td>12.000000</td>\n",
       "      <td>40.628571</td>\n",
       "      <td>0.0</td>\n",
       "      <td>140.000000</td>\n",
       "      <td>32.750000</td>\n",
       "      <td>2.453571</td>\n",
       "      <td>1.0</td>\n",
       "      <td>0</td>\n",
       "    </tr>\n",
       "  </tbody>\n",
       "</table>\n",
       "</div>"
      ],
      "text/plain": [
       "         cr   age         hg         al  gender          na         gl  \\\n",
       "356  853.81  56.0  10.400000  35.178571     1.0  133.000000  31.642857   \n",
       "56    66.71  60.0  13.942857  39.900000     0.0  140.571429  42.700000   \n",
       "386   96.60  65.0  12.000000  40.628571     0.0  140.000000  32.750000   \n",
       "\n",
       "           ca  Actual Label  Predicted Label  \n",
       "356  2.192857           0.0                1  \n",
       "56   2.453571           1.0                0  \n",
       "386  2.453571           1.0                0  "
      ]
     },
     "execution_count": 19,
     "metadata": {},
     "output_type": "execute_result"
    }
   ],
   "source": [
    "incorrect_predictions = X_test[y_pred != y_test]\n",
    "incorrect_labels = y_test[y_pred != y_test]\n",
    "predicted_labels = y_pred[y_pred != y_test]\n",
    "\n",
    "# Combine X_test with the actual and predicted labels for better clarity\n",
    "incorrect_data = incorrect_predictions.copy()\n",
    "incorrect_data['Actual Label'] = incorrect_labels\n",
    "incorrect_data['Predicted Label'] = predicted_labels\n",
    "\n",
    "incorrect_data"
   ]
  },
  {
   "cell_type": "code",
   "execution_count": null,
   "metadata": {},
   "outputs": [],
   "source": []
  },
  {
   "cell_type": "code",
   "execution_count": 122,
   "metadata": {},
   "outputs": [],
   "source": [
    "# x_ = np.array([716.230,60.0, 84.0,38.800000,\t1.0,121.0,31.042857,2.100000,77.000000,4.5])\n",
    "# x_ = x_.reshape(1, -1)\n",
    "\n",
    "# # single_instance = np.array([4.5, 2.3, 1.3, 0.2, 3.1])\n",
    "\n",
    "# # # Reshape it into a 2D array\n",
    "# # single_instance_reshaped = single_instance.reshape(1, -1)"
   ]
  },
  {
   "cell_type": "code",
   "execution_count": 123,
   "metadata": {},
   "outputs": [],
   "source": [
    "# import pickle\n",
    "\n",
    "# # Load the saved XGBoost model\n",
    "# with open(\"model_folder/xgboost_ckd_model.pkl\", \"rb\") as file:\n",
    "#     m = pickle.load(file)"
   ]
  },
  {
   "cell_type": "code",
   "execution_count": 124,
   "metadata": {},
   "outputs": [],
   "source": [
    "# y_ = m.predict(x_)\n",
    "# y_"
   ]
  },
  {
   "cell_type": "code",
   "execution_count": 125,
   "metadata": {},
   "outputs": [],
   "source": [
    "# y_"
   ]
  },
  {
   "cell_type": "code",
   "execution_count": 126,
   "metadata": {},
   "outputs": [
    {
     "data": {
      "text/plain": [
       "78     0.0\n",
       "371    1.0\n",
       "248    0.0\n",
       "55     1.0\n",
       "390    1.0\n",
       "      ... \n",
       "364    1.0\n",
       "82     0.0\n",
       "114    1.0\n",
       "3      1.0\n",
       "18     1.0\n",
       "Name: class, Length: 79, dtype: float64"
      ]
     },
     "execution_count": 126,
     "metadata": {},
     "output_type": "execute_result"
    }
   ],
   "source": [
    "y_test"
   ]
  },
  {
   "cell_type": "code",
   "execution_count": 127,
   "metadata": {},
   "outputs": [
    {
     "name": "stdout",
     "output_type": "stream",
     "text": [
      "Model saved as model_folder\\xgboost_ckd_model_no_scr.pkl\n"
     ]
    }
   ],
   "source": [
    "import os\n",
    "folder_name = \"model_folder\"\n",
    "if not os.path.exists(folder_name):\n",
    "    os.makedirs(folder_name)\n",
    "    print(f\"Folder '{folder_name}' created.\")\n",
    "\n",
    "# Step 6: Save the model in the new folder\n",
    "# model_path = os.path.join(folder_name, 'xgboost_ckd_model_no_alglca.pkl')\n",
    "# model_path = os.path.join(folder_name, 'xgboost_ckd_model.pkl')\n",
    "model_path = os.path.join(folder_name, 'xgboost_ckd_model_no_scr.pkl')\n",
    "\n",
    "\n",
    "with open(model_path, 'wb') as file:\n",
    "    pickle.dump(model, file)\n",
    "\n",
    "print(f\"Model saved as {model_path}\")"
   ]
  },
  {
   "cell_type": "code",
   "execution_count": null,
   "metadata": {},
   "outputs": [],
   "source": []
  },
  {
   "cell_type": "code",
   "execution_count": 1,
   "metadata": {},
   "outputs": [
    {
     "data": {
      "image/png": "[encoded data removed]",
      "text/plain": [
       "<Figure size 600x600 with 2 Axes>"
      ]
     },
     "metadata": {},
     "output_type": "display_data"
    }
   ],
   "source": [
    "import matplotlib.pyplot as plt\n",
    "import numpy as np\n",
    "\n",
    "# Create some sample data\n",
    "x = np.linspace(0, 10, 100)\n",
    "y1 = np.sin(x) * 10\n",
    "y2 = np.sin(x) * 1000  # Simulate a large gap between the two ranges\n",
    "\n",
    "# Create two subplots, one for each segment of the broken axis\n",
    "fig, (ax1, ax2) = plt.subplots(2, 1, sharex=True, figsize=(6, 6))\n",
    "\n",
    "# Adjust spacing between the two subplots\n",
    "fig.subplots_adjust(hspace=0.05)\n",
    "\n",
    "# Plot the lower part of the data on the first subplot\n",
    "ax1.plot(x, y1, label='Lower Range')\n",
    "ax1.set_ylim(-15, 15)  # Set limits for the lower range\n",
    "\n",
    "# Plot the upper part of the data on the second subplot\n",
    "ax2.plot(x, y2, label='Upper Range')\n",
    "ax2.set_ylim(900, 1100)  # Set limits for the upper range\n",
    "\n",
    "# Hide the spines between the two subplots\n",
    "ax1.spines['bottom'].set_visible(False)\n",
    "ax2.spines['top'].set_visible(False)\n",
    "\n",
    "# Add the diagonal lines for the broken y-axis effect\n",
    "ax1.tick_params(labeltop=False)  # Hide x-ticks on the upper plot\n",
    "ax2.tick_params(labelbottom=True)  # Show x-ticks on the lower plot\n",
    "\n",
    "# Diagonal lines in the broken axis\n",
    "d = 0.015  # Size of the diagonal lines\n",
    "kwargs = dict(transform=ax1.transAxes, color='k', clip_on=False)\n",
    "ax1.plot((-d, +d), (-d, +d), **kwargs)  # Top-left diagonal for ax1\n",
    "ax1.plot((1 - d, 1 + d), (-d, +d), **kwargs)  # Top-right diagonal for ax1\n",
    "\n",
    "kwargs.update(transform=ax2.transAxes)  # Switch to the bottom plot\n",
    "ax2.plot((-d, +d), (1 - d, 1 + d), **kwargs)  # Bottom-left diagonal for ax2\n",
    "ax2.plot((1 - d, 1 + d), (1 - d, 1 + d), **kwargs)  # Bottom-right diagonal for ax2\n",
    "\n",
    "# Label axes\n",
    "ax2.set_xlabel('X-axis')\n",
    "ax1.set_ylabel('Y-axis (Lower Range)')\n",
    "ax2.set_ylabel('Y-axis (Upper Range)')\n",
    "\n",
    "plt.show()\n"
   ]
  },
  {
   "cell_type": "code",
   "execution_count": null,
   "metadata": {},
   "outputs": [],
   "source": []
  }
 ],
 "metadata": {
  "kernelspec": {
   "display_name": "Python 3",
   "language": "python",
   "name": "python3"
  },
  "language_info": {
   "codemirror_mode": {
    "name": "ipython",
    "version": 3
   },
   "file_extension": ".py",
   "mimetype": "text/x-python",
   "name": "python",
   "nbconvert_exporter": "python",
   "pygments_lexer": "ipython3",
   "version": "3.12.3"
  }
 },
 "nbformat": 4,
 "nbformat_minor": 2
}
